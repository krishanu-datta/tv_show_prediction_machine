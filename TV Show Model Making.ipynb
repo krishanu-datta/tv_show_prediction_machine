{
 "cells": [
  {
   "cell_type": "code",
   "execution_count": 2,
   "metadata": {},
   "outputs": [],
   "source": [
    "## import relevant packages\n",
    "import pandas as pd\n",
    "from sklearn import linear_model\n"
   ]
  },
  {
   "cell_type": "code",
   "execution_count": 3,
   "metadata": {},
   "outputs": [],
   "source": [
    "shows = pd.read_csv('shows.csv', encoding='utf-8')"
   ]
  },
  {
   "cell_type": "code",
   "execution_count": 5,
   "metadata": {},
   "outputs": [
    {
     "name": "stdout",
     "output_type": "stream",
     "text": [
      "1.0\n"
     ]
    }
   ],
   "source": [
    "features = shows[['rating', 'rating_count','length','start_year', 'episodes', 'top_ep', 'sec_ep',\n",
    "                  'thd_ep', 'popularity','x0_TV-14', 'x0_TV-MA', 'x0_TV-PG','Action', 'Adventure', 'Animation', 'Biography', \n",
    "                  'Comedy', 'Crime', 'Drama', 'Family', 'Fantasy', 'History','Horror', 'Mystery', 'Romance',\n",
    "                  'Short', 'Sport', 'Music', 'Sci-Fi', 'Thriller', 'quick', 'short', 'medium',\n",
    "                  'long', 'series']]\n",
    "target = shows['score']\n",
    "\n",
    "regr = linear_model.LinearRegression()\n",
    "regr.fit(features, target)\n",
    "print(regr.score(features,target))"
   ]
  },
  {
   "cell_type": "code",
   "execution_count": 6,
   "metadata": {},
   "outputs": [],
   "source": [
    "predictions = pd.DataFrame()\n",
    "predict_values = []\n",
    "for i in features.iterrows():\n",
    "    predict_values.append(round(regr.predict([i[1][0:38]])[0],2))\n",
    "predictions['predict_values'] = predict_values"
   ]
  },
  {
   "cell_type": "code",
   "execution_count": 7,
   "metadata": {},
   "outputs": [],
   "source": [
    "shows = shows.join(predictions)"
   ]
  },
  {
   "cell_type": "code",
   "execution_count": 8,
   "metadata": {
    "scrolled": true
   },
   "outputs": [
    {
     "data": {
      "text/html": [
       "<div>\n",
       "<style scoped>\n",
       "    .dataframe tbody tr th:only-of-type {\n",
       "        vertical-align: middle;\n",
       "    }\n",
       "\n",
       "    .dataframe tbody tr th {\n",
       "        vertical-align: top;\n",
       "    }\n",
       "\n",
       "    .dataframe thead th {\n",
       "        text-align: right;\n",
       "    }\n",
       "</style>\n",
       "<table border=\"1\" class=\"dataframe\">\n",
       "  <thead>\n",
       "    <tr style=\"text-align: right;\">\n",
       "      <th></th>\n",
       "      <th>title</th>\n",
       "      <th>score</th>\n",
       "      <th>predict_values</th>\n",
       "      <th>diff</th>\n",
       "    </tr>\n",
       "  </thead>\n",
       "  <tbody>\n",
       "    <tr>\n",
       "      <th>19</th>\n",
       "      <td>The Queen's Gambit</td>\n",
       "      <td>92</td>\n",
       "      <td>92.0</td>\n",
       "      <td>0.0</td>\n",
       "    </tr>\n",
       "    <tr>\n",
       "      <th>3</th>\n",
       "      <td>The Office</td>\n",
       "      <td>90</td>\n",
       "      <td>90.0</td>\n",
       "      <td>0.0</td>\n",
       "    </tr>\n",
       "    <tr>\n",
       "      <th>18</th>\n",
       "      <td>Marco Polo</td>\n",
       "      <td>90</td>\n",
       "      <td>90.0</td>\n",
       "      <td>0.0</td>\n",
       "    </tr>\n",
       "    <tr>\n",
       "      <th>0</th>\n",
       "      <td>Game of Thrones</td>\n",
       "      <td>89</td>\n",
       "      <td>89.0</td>\n",
       "      <td>0.0</td>\n",
       "    </tr>\n",
       "    <tr>\n",
       "      <th>12</th>\n",
       "      <td>Sherlock</td>\n",
       "      <td>89</td>\n",
       "      <td>89.0</td>\n",
       "      <td>0.0</td>\n",
       "    </tr>\n",
       "    <tr>\n",
       "      <th>5</th>\n",
       "      <td>Breaking Bad</td>\n",
       "      <td>88</td>\n",
       "      <td>88.0</td>\n",
       "      <td>0.0</td>\n",
       "    </tr>\n",
       "    <tr>\n",
       "      <th>7</th>\n",
       "      <td>The 100</td>\n",
       "      <td>87</td>\n",
       "      <td>87.0</td>\n",
       "      <td>0.0</td>\n",
       "    </tr>\n",
       "    <tr>\n",
       "      <th>22</th>\n",
       "      <td>Sense8</td>\n",
       "      <td>86</td>\n",
       "      <td>86.0</td>\n",
       "      <td>0.0</td>\n",
       "    </tr>\n",
       "    <tr>\n",
       "      <th>6</th>\n",
       "      <td>Shameless</td>\n",
       "      <td>84</td>\n",
       "      <td>84.0</td>\n",
       "      <td>0.0</td>\n",
       "    </tr>\n",
       "    <tr>\n",
       "      <th>16</th>\n",
       "      <td>The Last Kingdom</td>\n",
       "      <td>84</td>\n",
       "      <td>84.0</td>\n",
       "      <td>0.0</td>\n",
       "    </tr>\n",
       "    <tr>\n",
       "      <th>17</th>\n",
       "      <td>Ozark</td>\n",
       "      <td>84</td>\n",
       "      <td>84.0</td>\n",
       "      <td>0.0</td>\n",
       "    </tr>\n",
       "    <tr>\n",
       "      <th>20</th>\n",
       "      <td>The Witcher</td>\n",
       "      <td>84</td>\n",
       "      <td>84.0</td>\n",
       "      <td>0.0</td>\n",
       "    </tr>\n",
       "    <tr>\n",
       "      <th>4</th>\n",
       "      <td>Lost in Space</td>\n",
       "      <td>83</td>\n",
       "      <td>83.0</td>\n",
       "      <td>0.0</td>\n",
       "    </tr>\n",
       "    <tr>\n",
       "      <th>9</th>\n",
       "      <td>Black Mirror</td>\n",
       "      <td>82</td>\n",
       "      <td>82.0</td>\n",
       "      <td>0.0</td>\n",
       "    </tr>\n",
       "    <tr>\n",
       "      <th>10</th>\n",
       "      <td>The Haunting of Bly Manor</td>\n",
       "      <td>82</td>\n",
       "      <td>82.0</td>\n",
       "      <td>0.0</td>\n",
       "    </tr>\n",
       "    <tr>\n",
       "      <th>2</th>\n",
       "      <td>Reign</td>\n",
       "      <td>81</td>\n",
       "      <td>81.0</td>\n",
       "      <td>0.0</td>\n",
       "    </tr>\n",
       "    <tr>\n",
       "      <th>14</th>\n",
       "      <td>Stranger Things</td>\n",
       "      <td>80</td>\n",
       "      <td>80.0</td>\n",
       "      <td>0.0</td>\n",
       "    </tr>\n",
       "    <tr>\n",
       "      <th>13</th>\n",
       "      <td>Riverdale</td>\n",
       "      <td>79</td>\n",
       "      <td>79.0</td>\n",
       "      <td>0.0</td>\n",
       "    </tr>\n",
       "    <tr>\n",
       "      <th>15</th>\n",
       "      <td>Designated Survivor</td>\n",
       "      <td>79</td>\n",
       "      <td>79.0</td>\n",
       "      <td>0.0</td>\n",
       "    </tr>\n",
       "    <tr>\n",
       "      <th>11</th>\n",
       "      <td>The End of the F***ing World</td>\n",
       "      <td>79</td>\n",
       "      <td>79.0</td>\n",
       "      <td>0.0</td>\n",
       "    </tr>\n",
       "    <tr>\n",
       "      <th>1</th>\n",
       "      <td>Altered Carbon</td>\n",
       "      <td>74</td>\n",
       "      <td>74.0</td>\n",
       "      <td>0.0</td>\n",
       "    </tr>\n",
       "    <tr>\n",
       "      <th>21</th>\n",
       "      <td>The Magicians</td>\n",
       "      <td>74</td>\n",
       "      <td>74.0</td>\n",
       "      <td>0.0</td>\n",
       "    </tr>\n",
       "    <tr>\n",
       "      <th>8</th>\n",
       "      <td>3%</td>\n",
       "      <td>64</td>\n",
       "      <td>64.0</td>\n",
       "      <td>0.0</td>\n",
       "    </tr>\n",
       "  </tbody>\n",
       "</table>\n",
       "</div>"
      ],
      "text/plain": [
       "                           title  score  predict_values  diff\n",
       "19            The Queen's Gambit     92            92.0   0.0\n",
       "3                     The Office     90            90.0   0.0\n",
       "18                    Marco Polo     90            90.0   0.0\n",
       "0                Game of Thrones     89            89.0   0.0\n",
       "12                      Sherlock     89            89.0   0.0\n",
       "5                   Breaking Bad     88            88.0   0.0\n",
       "7                        The 100     87            87.0   0.0\n",
       "22                        Sense8     86            86.0   0.0\n",
       "6                      Shameless     84            84.0   0.0\n",
       "16              The Last Kingdom     84            84.0   0.0\n",
       "17                         Ozark     84            84.0   0.0\n",
       "20                   The Witcher     84            84.0   0.0\n",
       "4                  Lost in Space     83            83.0   0.0\n",
       "9                   Black Mirror     82            82.0   0.0\n",
       "10     The Haunting of Bly Manor     82            82.0   0.0\n",
       "2                          Reign     81            81.0   0.0\n",
       "14               Stranger Things     80            80.0   0.0\n",
       "13                     Riverdale     79            79.0   0.0\n",
       "15           Designated Survivor     79            79.0   0.0\n",
       "11  The End of the F***ing World     79            79.0   0.0\n",
       "1                 Altered Carbon     74            74.0   0.0\n",
       "21                 The Magicians     74            74.0   0.0\n",
       "8                             3%     64            64.0   0.0"
      ]
     },
     "execution_count": 8,
     "metadata": {},
     "output_type": "execute_result"
    }
   ],
   "source": [
    "pd.set_option('display.max_rows', None)\n",
    "shows['diff'] = shows.score - shows.predict_values\n",
    "shows[['title','score','predict_values','diff']].sort_values(by='predict_values', ascending=False)"
   ]
  },
  {
   "cell_type": "code",
   "execution_count": 19,
   "metadata": {},
   "outputs": [],
   "source": [
    "wish = pd.read_csv('test.csv', encoding='utf-8')\n",
    "features = wish[['rating', 'rating_count','length','start_year', 'episodes', 'top_ep', 'sec_ep',\n",
    "                  'thd_ep', 'popularity','x0_TV-14', 'x0_TV-MA','x0_TV-PG','Action', 'Adventure', 'Animation', 'Biography', \n",
    "                  'Comedy', 'Crime', 'Drama', 'Family', 'Fantasy', 'History','Horror', 'Mystery', 'Romance',\n",
    "                  'Short', 'Sport', 'Music', 'Sci-Fi', 'Thriller', 'quick', 'short', 'medium',\n",
    "                  'long', 'series']]"
   ]
  },
  {
   "cell_type": "code",
   "execution_count": 20,
   "metadata": {},
   "outputs": [],
   "source": [
    "predictions_1 = pd.DataFrame()\n",
    "predict_values_1 = []\n",
    "for i in features.iterrows():\n",
    "    predict_values_1.append(round(regr.predict([i[1][0:37]])[0],2))\n",
    "predictions_1['predict_values'] = predict_values_1"
   ]
  },
  {
   "cell_type": "code",
   "execution_count": 21,
   "metadata": {},
   "outputs": [],
   "source": [
    "wish = wish.join(predictions_1)"
   ]
  },
  {
   "cell_type": "code",
   "execution_count": 22,
   "metadata": {
    "scrolled": true
   },
   "outputs": [
    {
     "data": {
      "text/html": [
       "<div>\n",
       "<style scoped>\n",
       "    .dataframe tbody tr th:only-of-type {\n",
       "        vertical-align: middle;\n",
       "    }\n",
       "\n",
       "    .dataframe tbody tr th {\n",
       "        vertical-align: top;\n",
       "    }\n",
       "\n",
       "    .dataframe thead th {\n",
       "        text-align: right;\n",
       "    }\n",
       "</style>\n",
       "<table border=\"1\" class=\"dataframe\">\n",
       "  <thead>\n",
       "    <tr style=\"text-align: right;\">\n",
       "      <th></th>\n",
       "      <th>title</th>\n",
       "      <th>predict_values</th>\n",
       "    </tr>\n",
       "  </thead>\n",
       "  <tbody>\n",
       "    <tr>\n",
       "      <th>1</th>\n",
       "      <td>Merlin</td>\n",
       "      <td>76.16</td>\n",
       "    </tr>\n",
       "    <tr>\n",
       "      <th>0</th>\n",
       "      <td>The Umbrella Academy</td>\n",
       "      <td>70.18</td>\n",
       "    </tr>\n",
       "  </tbody>\n",
       "</table>\n",
       "</div>"
      ],
      "text/plain": [
       "                  title  predict_values\n",
       "1                Merlin           76.16\n",
       "0  The Umbrella Academy           70.18"
      ]
     },
     "execution_count": 22,
     "metadata": {},
     "output_type": "execute_result"
    }
   ],
   "source": [
    "pd.set_option('display.max_rows', None)\n",
    "wish[['title','predict_values']].sort_values(by='predict_values', ascending=False)"
   ]
  },
  {
   "cell_type": "code",
   "execution_count": null,
   "metadata": {},
   "outputs": [],
   "source": []
  },
  {
   "cell_type": "code",
   "execution_count": null,
   "metadata": {},
   "outputs": [],
   "source": []
  },
  {
   "cell_type": "code",
   "execution_count": null,
   "metadata": {},
   "outputs": [],
   "source": []
  },
  {
   "cell_type": "code",
   "execution_count": null,
   "metadata": {},
   "outputs": [],
   "source": []
  },
  {
   "cell_type": "code",
   "execution_count": null,
   "metadata": {},
   "outputs": [],
   "source": []
  },
  {
   "cell_type": "code",
   "execution_count": null,
   "metadata": {},
   "outputs": [],
   "source": []
  }
 ],
 "metadata": {
  "kernelspec": {
   "display_name": "Python 3",
   "language": "python",
   "name": "python3"
  },
  "language_info": {
   "codemirror_mode": {
    "name": "ipython",
    "version": 3
   },
   "file_extension": ".py",
   "mimetype": "text/x-python",
   "name": "python",
   "nbconvert_exporter": "python",
   "pygments_lexer": "ipython3",
   "version": "3.7.6"
  }
 },
 "nbformat": 4,
 "nbformat_minor": 4
}
